{
  "cells": [
    {
      "cell_type": "code",
      "execution_count": 16,
      "metadata": {
        "colab": {
          "base_uri": "https://localhost:8080/"
        },
        "id": "N_yfzjRKyaMN",
        "outputId": "a4d57540-cba2-480d-db3c-5ad4dff6799b"
      },
      "outputs": [
        {
          "name": "stderr",
          "output_type": "stream",
          "text": [
            "[nltk_data] Downloading package stopwords to\n",
            "[nltk_data]     /Users/sanketsaxena/nltk_data...\n",
            "[nltk_data]   Package stopwords is already up-to-date!\n",
            "[nltk_data] Downloading package punkt to\n",
            "[nltk_data]     /Users/sanketsaxena/nltk_data...\n",
            "[nltk_data]   Package punkt is already up-to-date!\n"
          ]
        },
        {
          "data": {
            "text/plain": [
              "True"
            ]
          },
          "execution_count": 16,
          "metadata": {},
          "output_type": "execute_result"
        }
      ],
      "source": [
        "\n",
        "import pandas as pd\n",
        "import numpy as np\n",
        "\n",
        "from sklearn.decomposition import PCA\n",
        "from sklearn.metrics.pairwise import cosine_similarity\n",
        "\n",
        "import matplotlib.pyplot as plt\n",
        "\n",
        "import re\n",
        "import time\n",
        "import gensim\n",
        "from gensim.models import Word2Vec\n",
        "\n",
        "import nltk\n",
        "from nltk.corpus import stopwords\n",
        "from nltk.stem import PorterStemmer\n",
        "from nltk.tokenize import word_tokenize\n",
        "\n",
        "\n",
        "nltk.download('stopwords')\n",
        "nltk.download('punkt')"
      ]
    },
    {
      "cell_type": "code",
      "execution_count": 18,
      "metadata": {
        "id": "NZ-1vcJQyaJb"
      },
      "outputs": [],
      "source": [
        "df = pd.read_csv(\"/Users/sanketsaxena/Desktop/recommendationSystem/ARTIFACTS/DATA/fashion.csv\")"
      ]
    },
    {
      "cell_type": "code",
      "execution_count": null,
      "metadata": {
        "id": "v-xd6sw11_pD"
      },
      "outputs": [],
      "source": [
        "for i in df.index:\n",
        "  if type(df['title'][i]) == float:\n",
        "    df.drop(i, inplace=True,axis = 0)"
      ]
    },
    {
      "cell_type": "code",
      "execution_count": null,
      "metadata": {
        "id": "PHwnd1O51_mb"
      },
      "outputs": [],
      "source": [
        "def concatenate_strings(row):\n",
        "    str1 = row['title']\n",
        "    str2_list = row['description']\n",
        "    if str2_list == \"[]\":  # Check if the list is not empty\n",
        "        return str1\n",
        "    else:\n",
        "      return str1 + \" \" + str2_list[3:]\n",
        "\n",
        "# Applying the function to concatenate strings from the two columns\n",
        "df['titleDesc'] = df.apply(concatenate_strings, axis=1)"
      ]
    },
    {
      "cell_type": "code",
      "execution_count": null,
      "metadata": {
        "colab": {
          "base_uri": "https://localhost:8080/"
        },
        "id": "Qbs1wDsQyaDt",
        "outputId": "506be5ba-bf62-46c9-e1df-a42b5b6bd692"
      },
      "outputs": [
        {
          "data": {
            "text/plain": [
              "True"
            ]
          },
          "execution_count": 52,
          "metadata": {},
          "output_type": "execute_result"
        }
      ],
      "source": [
        "df['titleDesc'].duplicated().any()"
      ]
    },
    {
      "cell_type": "code",
      "execution_count": null,
      "metadata": {
        "colab": {
          "base_uri": "https://localhost:8080/"
        },
        "id": "iwk69hoKyaA2",
        "outputId": "6ecd7c46-9027-4db2-88f1-9e3ad28d5c74"
      },
      "outputs": [
        {
          "data": {
            "text/plain": [
              "3758     CYAPING Kids Boys and Girls Summer Athletic Wa...\n",
              "4228     Egnaro Silicone Ring Women Thin and Stackable ...\n",
              "4275     Ruxford Mens Elastic Waist Pants for Seniors -...\n",
              "4722     Galawaqe Women's Sleeveless Dresses for Summer...\n",
              "4758     KomForme Kids Boy Rain Boots, Waterproof Rubbe...\n",
              "                               ...                        \n",
              "79802    Koodred Womens Casual Graphic Long Sleeve Crew...\n",
              "79852    Dacomfy Mens Leather Casual Shoes Loafers Hand...\n",
              "79899    Cut Out Buckle Ankle Bootie - Low Stacked Wood...\n",
              "79927      Nike Men`s 3 Pack Dri-FIT Triple Fly Crew Socks\n",
              "79930    Jxncddh Big Girls Short Sleeve Print Dresses f...\n",
              "Name: titleDesc, Length: 1105, dtype: object"
            ]
          },
          "execution_count": 53,
          "metadata": {},
          "output_type": "execute_result"
        }
      ],
      "source": [
        "df[df['titleDesc'].duplicated()].titleDesc"
      ]
    },
    {
      "cell_type": "code",
      "execution_count": null,
      "metadata": {
        "id": "jkDl9FZayZ9-"
      },
      "outputs": [],
      "source": [
        "df.drop_duplicates(subset='titleDesc', inplace=True)"
      ]
    },
    {
      "cell_type": "code",
      "execution_count": null,
      "metadata": {
        "colab": {
          "base_uri": "https://localhost:8080/"
        },
        "id": "1e5wC17myZ7X",
        "outputId": "b96cc46c-ea38-4c5f-f69c-208b914f2a29"
      },
      "outputs": [
        {
          "data": {
            "text/plain": [
              "78890"
            ]
          },
          "execution_count": 55,
          "metadata": {},
          "output_type": "execute_result"
        }
      ],
      "source": [
        "len(df)"
      ]
    },
    {
      "cell_type": "code",
      "execution_count": null,
      "metadata": {
        "id": "MluGqtGSyZ4o"
      },
      "outputs": [],
      "source": [
        "df.drop(['main_category','features','price','videos','categories','details','bought_together'],axis = 1,inplace = True)"
      ]
    },
    {
      "cell_type": "code",
      "execution_count": null,
      "metadata": {
        "colab": {
          "base_uri": "https://localhost:8080/",
          "height": 202
        },
        "id": "nOGGGKv5yZ15",
        "outputId": "c344a285-1841-4585-849e-ce943e9feb9c"
      },
      "outputs": [
        {
          "data": {
            "application/vnd.google.colaboratory.intrinsic+json": {
              "summary": "{\n  \"name\": \"df\",\n  \"rows\": 78890,\n  \"fields\": [\n    {\n      \"column\": \"Unnamed: 0\",\n      \"properties\": {\n        \"dtype\": \"number\",\n        \"std\": 238558,\n        \"min\": 26,\n        \"max\": 826103,\n        \"num_unique_values\": 78890,\n        \"samples\": [\n          544045,\n          624945,\n          819246\n        ],\n        \"semantic_type\": \"\",\n        \"description\": \"\"\n      }\n    },\n    {\n      \"column\": \"title\",\n      \"properties\": {\n        \"dtype\": \"string\",\n        \"num_unique_values\": 78853,\n        \"samples\": [\n          \"SheIn Women's Off The Shoulder Crochet Long Sleeve Blouse - White X-Small\",\n          \"Sterling Silver 14kt Yellow Gold Plated Accents Three Plumeria Slider Pendant Necklace, 16+2\\\" Extender\",\n          \"OXYEFEI Graduation Stole, Personalized 2023 Mexican Serape Embroidery Customization, Graduation Sash Class of 2023\"\n        ],\n        \"semantic_type\": \"\",\n        \"description\": \"\"\n      }\n    },\n    {\n      \"column\": \"average_rating\",\n      \"properties\": {\n        \"dtype\": \"number\",\n        \"std\": 0.9843081583573156,\n        \"min\": 1.0,\n        \"max\": 5.0,\n        \"num_unique_values\": 40,\n        \"samples\": [\n          2.5,\n          4.6,\n          3.8\n        ],\n        \"semantic_type\": \"\",\n        \"description\": \"\"\n      }\n    },\n    {\n      \"column\": \"rating_number\",\n      \"properties\": {\n        \"dtype\": \"number\",\n        \"std\": 139,\n        \"min\": 1,\n        \"max\": 20533,\n        \"num_unique_values\": 663,\n        \"samples\": [\n          295,\n          288,\n          260\n        ],\n        \"semantic_type\": \"\",\n        \"description\": \"\"\n      }\n    },\n    {\n      \"column\": \"description\",\n      \"properties\": {\n        \"dtype\": \"category\",\n        \"num_unique_values\": 5330,\n        \"samples\": [\n          \"['Metal Pink Ribbon Charms. Each with acrylic rhinestones. Use these charms as gifts, decorations, wine charms, etc. at your next bunco pink ribbon fundraiser or event. 1/2\\\" each.']\",\n          \"[\\\"Your little one with love their Timberland 6 Premium Boot with Faux Shearling! This classic workboot features a faux shearling lining to keep their toes warm when the temperatures drop. These are built to protect kids' feet through puddles, rain, mud and whatever else gets in their way. Grab a pair of Timberland 6 Premium Boot with Faux Shearling Wheat Work Boot today!\\\"]\",\n          \"['Cartilage earring piercing stud with black titanium anodized ball. 16 Gauge 1/4\\\". Ball size 4mm. Surgical steel bar.']\"\n        ],\n        \"semantic_type\": \"\",\n        \"description\": \"\"\n      }\n    },\n    {\n      \"column\": \"images\",\n      \"properties\": {\n        \"dtype\": \"string\",\n        \"num_unique_values\": 76072,\n        \"samples\": [\n          \"[{'thumb': 'https://m.media-amazon.com/images/I/311qe6eNRTL._AC_SR38,50_.jpg', 'large': 'https://m.media-amazon.com/images/I/311qe6eNRTL._AC_.jpg', 'variant': 'MAIN', 'hi_res': 'https://m.media-amazon.com/images/I/51GseDi9viL._AC_UL1500_.jpg'}, {'thumb': 'https://m.media-amazon.com/images/I/316j4Kd29vL._AC_SR38,50_.jpg', 'large': 'https://m.media-amazon.com/images/I/316j4Kd29vL._AC_.jpg', 'variant': 'PT01', 'hi_res': 'https://m.media-amazon.com/images/I/51dq6Nya4sL._AC_UL1500_.jpg'}, {'thumb': 'https://m.media-amazon.com/images/I/31xMUNssWCL._AC_SR38,50_.jpg', 'large': 'https://m.media-amazon.com/images/I/31xMUNssWCL._AC_.jpg', 'variant': 'PT02', 'hi_res': 'https://m.media-amazon.com/images/I/51Ik4Fd5JuL._AC_UL1500_.jpg'}, {'thumb': 'https://m.media-amazon.com/images/I/31Bj5u3K4yL._AC_SR38,50_.jpg', 'large': 'https://m.media-amazon.com/images/I/31Bj5u3K4yL._AC_.jpg', 'variant': 'PT03', 'hi_res': 'https://m.media-amazon.com/images/I/51XxMauGg0L._AC_UL1500_.jpg'}, {'thumb': 'https://m.media-amazon.com/images/I/31k9+pMR6LL._AC_SR38,50_.jpg', 'large': 'https://m.media-amazon.com/images/I/31k9+pMR6LL._AC_.jpg', 'variant': 'PT04', 'hi_res': 'https://m.media-amazon.com/images/I/61IOoVi-jTL._AC_UL1500_.jpg'}, {'thumb': 'https://m.media-amazon.com/images/I/31x+GGLdj4L._AC_SR38,50_.jpg', 'large': 'https://m.media-amazon.com/images/I/31x+GGLdj4L._AC_.jpg', 'variant': 'PT05', 'hi_res': 'https://m.media-amazon.com/images/I/51gvzLX-uPL._AC_UL1500_.jpg'}, {'thumb': 'https://m.media-amazon.com/images/I/51QUG7v9c-L._AC_SR38,50_.jpg', 'large': 'https://m.media-amazon.com/images/I/51QUG7v9c-L._AC_.jpg', 'variant': 'PT06', 'hi_res': 'https://m.media-amazon.com/images/I/81oVOMv29pL._AC_UL1500_.jpg'}]\",\n          \"[{'thumb': 'https://m.media-amazon.com/images/I/41Mq+xWhtLL._AC_SR38,50_.jpg', 'large': 'https://m.media-amazon.com/images/I/41Mq+xWhtLL._AC_.jpg', 'variant': 'MAIN', 'hi_res': 'https://m.media-amazon.com/images/I/71cap8+pNSL._AC_UL1500_.jpg'}]\",\n          \"[{'thumb': 'https://m.media-amazon.com/images/I/41cUj5DpXKL._AC_SR38,50_.jpg', 'large': 'https://m.media-amazon.com/images/I/41cUj5DpXKL._AC_.jpg', 'variant': 'MAIN', 'hi_res': 'https://m.media-amazon.com/images/I/71xt97tS0+L._AC_UL1500_.jpg'}]\"\n        ],\n        \"semantic_type\": \"\",\n        \"description\": \"\"\n      }\n    },\n    {\n      \"column\": \"store\",\n      \"properties\": {\n        \"dtype\": \"category\",\n        \"num_unique_values\": 27123,\n        \"samples\": [\n          \"Theatricals Pro\",\n          \"ASGIFT\",\n          \"J.NINA\"\n        ],\n        \"semantic_type\": \"\",\n        \"description\": \"\"\n      }\n    },\n    {\n      \"column\": \"parent_asin\",\n      \"properties\": {\n        \"dtype\": \"string\",\n        \"num_unique_values\": 78890,\n        \"samples\": [\n          \"B01HD8Q5LE\",\n          \"B0B61DHVF8\",\n          \"B07MQ58978\"\n        ],\n        \"semantic_type\": \"\",\n        \"description\": \"\"\n      }\n    },\n    {\n      \"column\": \"titleDesc\",\n      \"properties\": {\n        \"dtype\": \"string\",\n        \"num_unique_values\": 78890,\n        \"samples\": [\n          \"Fantaist Women's 1950s Sweetheart Button Cocktail Party Pinup Green Pencil Dress (M, Dark Green)\",\n          \"Asvivid Women's Dress Square Neck Long Elastic Sleeve Ruffle Smocked Tiered Crinkle A-Line Casual Short Mini Dress Black XL ummer dresses for women 2023/spring fall dresses for women 2023/white dress/black dresses for women/wedding dress/homecoming dresses/wedding guest dress/long sleeve dress for women/plus size dress for women/casual dresses/off the shoulder dresses for women']\",\n          \"Men\\u2019s Classic Rubber Work Boots |Mid Height Boot| Neoprene Lining Stretch Sock Slip |Hunting Insulated Waterproof Slip Resistant |Black\"\n        ],\n        \"semantic_type\": \"\",\n        \"description\": \"\"\n      }\n    }\n  ]\n}",
              "type": "dataframe",
              "variable_name": "df"
            },
            "text/html": [
              "\n",
              "  <div id=\"df-7c592bf9-85b1-4e42-977b-18c65657e3f3\" class=\"colab-df-container\">\n",
              "    <div>\n",
              "<style scoped>\n",
              "    .dataframe tbody tr th:only-of-type {\n",
              "        vertical-align: middle;\n",
              "    }\n",
              "\n",
              "    .dataframe tbody tr th {\n",
              "        vertical-align: top;\n",
              "    }\n",
              "\n",
              "    .dataframe thead th {\n",
              "        text-align: right;\n",
              "    }\n",
              "</style>\n",
              "<table border=\"1\" class=\"dataframe\">\n",
              "  <thead>\n",
              "    <tr style=\"text-align: right;\">\n",
              "      <th></th>\n",
              "      <th>Unnamed: 0</th>\n",
              "      <th>title</th>\n",
              "      <th>average_rating</th>\n",
              "      <th>rating_number</th>\n",
              "      <th>description</th>\n",
              "      <th>images</th>\n",
              "      <th>store</th>\n",
              "      <th>parent_asin</th>\n",
              "      <th>titleDesc</th>\n",
              "    </tr>\n",
              "  </thead>\n",
              "  <tbody>\n",
              "    <tr>\n",
              "      <th>0</th>\n",
              "      <td>426639</td>\n",
              "      <td>Genuine Leather Belt for Men, Single Prong Met...</td>\n",
              "      <td>2.3</td>\n",
              "      <td>3</td>\n",
              "      <td>[]</td>\n",
              "      <td>[{'thumb': 'https://m.media-amazon.com/images/...</td>\n",
              "      <td>VY</td>\n",
              "      <td>B084HLLNLN</td>\n",
              "      <td>Genuine Leather Belt for Men, Single Prong Met...</td>\n",
              "    </tr>\n",
              "  </tbody>\n",
              "</table>\n",
              "</div>\n",
              "    <div class=\"colab-df-buttons\">\n",
              "\n",
              "  <div class=\"colab-df-container\">\n",
              "    <button class=\"colab-df-convert\" onclick=\"convertToInteractive('df-7c592bf9-85b1-4e42-977b-18c65657e3f3')\"\n",
              "            title=\"Convert this dataframe to an interactive table.\"\n",
              "            style=\"display:none;\">\n",
              "\n",
              "  <svg xmlns=\"http://www.w3.org/2000/svg\" height=\"24px\" viewBox=\"0 -960 960 960\">\n",
              "    <path d=\"M120-120v-720h720v720H120Zm60-500h600v-160H180v160Zm220 220h160v-160H400v160Zm0 220h160v-160H400v160ZM180-400h160v-160H180v160Zm440 0h160v-160H620v160ZM180-180h160v-160H180v160Zm440 0h160v-160H620v160Z\"/>\n",
              "  </svg>\n",
              "    </button>\n",
              "\n",
              "  <style>\n",
              "    .colab-df-container {\n",
              "      display:flex;\n",
              "      gap: 12px;\n",
              "    }\n",
              "\n",
              "    .colab-df-convert {\n",
              "      background-color: #E8F0FE;\n",
              "      border: none;\n",
              "      border-radius: 50%;\n",
              "      cursor: pointer;\n",
              "      display: none;\n",
              "      fill: #1967D2;\n",
              "      height: 32px;\n",
              "      padding: 0 0 0 0;\n",
              "      width: 32px;\n",
              "    }\n",
              "\n",
              "    .colab-df-convert:hover {\n",
              "      background-color: #E2EBFA;\n",
              "      box-shadow: 0px 1px 2px rgba(60, 64, 67, 0.3), 0px 1px 3px 1px rgba(60, 64, 67, 0.15);\n",
              "      fill: #174EA6;\n",
              "    }\n",
              "\n",
              "    .colab-df-buttons div {\n",
              "      margin-bottom: 4px;\n",
              "    }\n",
              "\n",
              "    [theme=dark] .colab-df-convert {\n",
              "      background-color: #3B4455;\n",
              "      fill: #D2E3FC;\n",
              "    }\n",
              "\n",
              "    [theme=dark] .colab-df-convert:hover {\n",
              "      background-color: #434B5C;\n",
              "      box-shadow: 0px 1px 3px 1px rgba(0, 0, 0, 0.15);\n",
              "      filter: drop-shadow(0px 1px 2px rgba(0, 0, 0, 0.3));\n",
              "      fill: #FFFFFF;\n",
              "    }\n",
              "  </style>\n",
              "\n",
              "    <script>\n",
              "      const buttonEl =\n",
              "        document.querySelector('#df-7c592bf9-85b1-4e42-977b-18c65657e3f3 button.colab-df-convert');\n",
              "      buttonEl.style.display =\n",
              "        google.colab.kernel.accessAllowed ? 'block' : 'none';\n",
              "\n",
              "      async function convertToInteractive(key) {\n",
              "        const element = document.querySelector('#df-7c592bf9-85b1-4e42-977b-18c65657e3f3');\n",
              "        const dataTable =\n",
              "          await google.colab.kernel.invokeFunction('convertToInteractive',\n",
              "                                                    [key], {});\n",
              "        if (!dataTable) return;\n",
              "\n",
              "        const docLinkHtml = 'Like what you see? Visit the ' +\n",
              "          '<a target=\"_blank\" href=https://colab.research.google.com/notebooks/data_table.ipynb>data table notebook</a>'\n",
              "          + ' to learn more about interactive tables.';\n",
              "        element.innerHTML = '';\n",
              "        dataTable['output_type'] = 'display_data';\n",
              "        await google.colab.output.renderOutput(dataTable, element);\n",
              "        const docLink = document.createElement('div');\n",
              "        docLink.innerHTML = docLinkHtml;\n",
              "        element.appendChild(docLink);\n",
              "      }\n",
              "    </script>\n",
              "  </div>\n",
              "\n",
              "\n",
              "    </div>\n",
              "  </div>\n"
            ],
            "text/plain": [
              "   Unnamed: 0                                              title  \\\n",
              "0      426639  Genuine Leather Belt for Men, Single Prong Met...   \n",
              "\n",
              "   average_rating  rating_number description  \\\n",
              "0             2.3              3          []   \n",
              "\n",
              "                                              images store parent_asin  \\\n",
              "0  [{'thumb': 'https://m.media-amazon.com/images/...    VY  B084HLLNLN   \n",
              "\n",
              "                                           titleDesc  \n",
              "0  Genuine Leather Belt for Men, Single Prong Met...  "
            ]
          },
          "execution_count": 57,
          "metadata": {},
          "output_type": "execute_result"
        }
      ],
      "source": [
        "df.head(1)"
      ]
    },
    {
      "cell_type": "code",
      "execution_count": null,
      "metadata": {
        "id": "SQj5UERKyZza"
      },
      "outputs": [],
      "source": [
        "df1 = df"
      ]
    },
    {
      "cell_type": "code",
      "execution_count": null,
      "metadata": {
        "id": "U-HJSPyQyZws"
      },
      "outputs": [],
      "source": [
        "df['titleDesc'] = df['titleDesc'].str.lower()"
      ]
    },
    {
      "cell_type": "code",
      "execution_count": null,
      "metadata": {
        "colab": {
          "base_uri": "https://localhost:8080/",
          "height": 202
        },
        "id": "DhkuWE3hyZuG",
        "outputId": "7d15de36-2599-4a60-e998-91b8fe3ce40d"
      },
      "outputs": [
        {
          "data": {
            "application/vnd.google.colaboratory.intrinsic+json": {
              "summary": "{\n  \"name\": \"df\",\n  \"rows\": 78890,\n  \"fields\": [\n    {\n      \"column\": \"Unnamed: 0\",\n      \"properties\": {\n        \"dtype\": \"number\",\n        \"std\": 238558,\n        \"min\": 26,\n        \"max\": 826103,\n        \"num_unique_values\": 78890,\n        \"samples\": [\n          544045,\n          624945,\n          819246\n        ],\n        \"semantic_type\": \"\",\n        \"description\": \"\"\n      }\n    },\n    {\n      \"column\": \"title\",\n      \"properties\": {\n        \"dtype\": \"string\",\n        \"num_unique_values\": 78853,\n        \"samples\": [\n          \"SheIn Women's Off The Shoulder Crochet Long Sleeve Blouse - White X-Small\",\n          \"Sterling Silver 14kt Yellow Gold Plated Accents Three Plumeria Slider Pendant Necklace, 16+2\\\" Extender\",\n          \"OXYEFEI Graduation Stole, Personalized 2023 Mexican Serape Embroidery Customization, Graduation Sash Class of 2023\"\n        ],\n        \"semantic_type\": \"\",\n        \"description\": \"\"\n      }\n    },\n    {\n      \"column\": \"average_rating\",\n      \"properties\": {\n        \"dtype\": \"number\",\n        \"std\": 0.9843081583573156,\n        \"min\": 1.0,\n        \"max\": 5.0,\n        \"num_unique_values\": 40,\n        \"samples\": [\n          2.5,\n          4.6,\n          3.8\n        ],\n        \"semantic_type\": \"\",\n        \"description\": \"\"\n      }\n    },\n    {\n      \"column\": \"rating_number\",\n      \"properties\": {\n        \"dtype\": \"number\",\n        \"std\": 139,\n        \"min\": 1,\n        \"max\": 20533,\n        \"num_unique_values\": 663,\n        \"samples\": [\n          295,\n          288,\n          260\n        ],\n        \"semantic_type\": \"\",\n        \"description\": \"\"\n      }\n    },\n    {\n      \"column\": \"description\",\n      \"properties\": {\n        \"dtype\": \"category\",\n        \"num_unique_values\": 5330,\n        \"samples\": [\n          \"['Metal Pink Ribbon Charms. Each with acrylic rhinestones. Use these charms as gifts, decorations, wine charms, etc. at your next bunco pink ribbon fundraiser or event. 1/2\\\" each.']\",\n          \"[\\\"Your little one with love their Timberland 6 Premium Boot with Faux Shearling! This classic workboot features a faux shearling lining to keep their toes warm when the temperatures drop. These are built to protect kids' feet through puddles, rain, mud and whatever else gets in their way. Grab a pair of Timberland 6 Premium Boot with Faux Shearling Wheat Work Boot today!\\\"]\",\n          \"['Cartilage earring piercing stud with black titanium anodized ball. 16 Gauge 1/4\\\". Ball size 4mm. Surgical steel bar.']\"\n        ],\n        \"semantic_type\": \"\",\n        \"description\": \"\"\n      }\n    },\n    {\n      \"column\": \"images\",\n      \"properties\": {\n        \"dtype\": \"string\",\n        \"num_unique_values\": 76072,\n        \"samples\": [\n          \"[{'thumb': 'https://m.media-amazon.com/images/I/311qe6eNRTL._AC_SR38,50_.jpg', 'large': 'https://m.media-amazon.com/images/I/311qe6eNRTL._AC_.jpg', 'variant': 'MAIN', 'hi_res': 'https://m.media-amazon.com/images/I/51GseDi9viL._AC_UL1500_.jpg'}, {'thumb': 'https://m.media-amazon.com/images/I/316j4Kd29vL._AC_SR38,50_.jpg', 'large': 'https://m.media-amazon.com/images/I/316j4Kd29vL._AC_.jpg', 'variant': 'PT01', 'hi_res': 'https://m.media-amazon.com/images/I/51dq6Nya4sL._AC_UL1500_.jpg'}, {'thumb': 'https://m.media-amazon.com/images/I/31xMUNssWCL._AC_SR38,50_.jpg', 'large': 'https://m.media-amazon.com/images/I/31xMUNssWCL._AC_.jpg', 'variant': 'PT02', 'hi_res': 'https://m.media-amazon.com/images/I/51Ik4Fd5JuL._AC_UL1500_.jpg'}, {'thumb': 'https://m.media-amazon.com/images/I/31Bj5u3K4yL._AC_SR38,50_.jpg', 'large': 'https://m.media-amazon.com/images/I/31Bj5u3K4yL._AC_.jpg', 'variant': 'PT03', 'hi_res': 'https://m.media-amazon.com/images/I/51XxMauGg0L._AC_UL1500_.jpg'}, {'thumb': 'https://m.media-amazon.com/images/I/31k9+pMR6LL._AC_SR38,50_.jpg', 'large': 'https://m.media-amazon.com/images/I/31k9+pMR6LL._AC_.jpg', 'variant': 'PT04', 'hi_res': 'https://m.media-amazon.com/images/I/61IOoVi-jTL._AC_UL1500_.jpg'}, {'thumb': 'https://m.media-amazon.com/images/I/31x+GGLdj4L._AC_SR38,50_.jpg', 'large': 'https://m.media-amazon.com/images/I/31x+GGLdj4L._AC_.jpg', 'variant': 'PT05', 'hi_res': 'https://m.media-amazon.com/images/I/51gvzLX-uPL._AC_UL1500_.jpg'}, {'thumb': 'https://m.media-amazon.com/images/I/51QUG7v9c-L._AC_SR38,50_.jpg', 'large': 'https://m.media-amazon.com/images/I/51QUG7v9c-L._AC_.jpg', 'variant': 'PT06', 'hi_res': 'https://m.media-amazon.com/images/I/81oVOMv29pL._AC_UL1500_.jpg'}]\",\n          \"[{'thumb': 'https://m.media-amazon.com/images/I/41Mq+xWhtLL._AC_SR38,50_.jpg', 'large': 'https://m.media-amazon.com/images/I/41Mq+xWhtLL._AC_.jpg', 'variant': 'MAIN', 'hi_res': 'https://m.media-amazon.com/images/I/71cap8+pNSL._AC_UL1500_.jpg'}]\",\n          \"[{'thumb': 'https://m.media-amazon.com/images/I/41cUj5DpXKL._AC_SR38,50_.jpg', 'large': 'https://m.media-amazon.com/images/I/41cUj5DpXKL._AC_.jpg', 'variant': 'MAIN', 'hi_res': 'https://m.media-amazon.com/images/I/71xt97tS0+L._AC_UL1500_.jpg'}]\"\n        ],\n        \"semantic_type\": \"\",\n        \"description\": \"\"\n      }\n    },\n    {\n      \"column\": \"store\",\n      \"properties\": {\n        \"dtype\": \"category\",\n        \"num_unique_values\": 27123,\n        \"samples\": [\n          \"Theatricals Pro\",\n          \"ASGIFT\",\n          \"J.NINA\"\n        ],\n        \"semantic_type\": \"\",\n        \"description\": \"\"\n      }\n    },\n    {\n      \"column\": \"parent_asin\",\n      \"properties\": {\n        \"dtype\": \"string\",\n        \"num_unique_values\": 78890,\n        \"samples\": [\n          \"B01HD8Q5LE\",\n          \"B0B61DHVF8\",\n          \"B07MQ58978\"\n        ],\n        \"semantic_type\": \"\",\n        \"description\": \"\"\n      }\n    },\n    {\n      \"column\": \"titleDesc\",\n      \"properties\": {\n        \"dtype\": \"string\",\n        \"num_unique_values\": 78880,\n        \"samples\": [\n          \"womens cropped quarter zip pullover swealsthirt hoodie long sleeve crop top apricot, small\",\n          \"wneedu women's summer casual t shirt dresses short sleeve swing dress with pockets (xl, dyed gray orange purple)\",\n          \"womtop woman waist belt elastic stretch vintage dress belt 3 pcs cinch belt with fashion metal interlock buckle (flower(black+white+brown), free)\"\n        ],\n        \"semantic_type\": \"\",\n        \"description\": \"\"\n      }\n    }\n  ]\n}",
              "type": "dataframe",
              "variable_name": "df"
            },
            "text/html": [
              "\n",
              "  <div id=\"df-2189faba-734d-4f67-9f9f-69947886dfbb\" class=\"colab-df-container\">\n",
              "    <div>\n",
              "<style scoped>\n",
              "    .dataframe tbody tr th:only-of-type {\n",
              "        vertical-align: middle;\n",
              "    }\n",
              "\n",
              "    .dataframe tbody tr th {\n",
              "        vertical-align: top;\n",
              "    }\n",
              "\n",
              "    .dataframe thead th {\n",
              "        text-align: right;\n",
              "    }\n",
              "</style>\n",
              "<table border=\"1\" class=\"dataframe\">\n",
              "  <thead>\n",
              "    <tr style=\"text-align: right;\">\n",
              "      <th></th>\n",
              "      <th>Unnamed: 0</th>\n",
              "      <th>title</th>\n",
              "      <th>average_rating</th>\n",
              "      <th>rating_number</th>\n",
              "      <th>description</th>\n",
              "      <th>images</th>\n",
              "      <th>store</th>\n",
              "      <th>parent_asin</th>\n",
              "      <th>titleDesc</th>\n",
              "    </tr>\n",
              "  </thead>\n",
              "  <tbody>\n",
              "    <tr>\n",
              "      <th>0</th>\n",
              "      <td>426639</td>\n",
              "      <td>Genuine Leather Belt for Men, Single Prong Met...</td>\n",
              "      <td>2.3</td>\n",
              "      <td>3</td>\n",
              "      <td>[]</td>\n",
              "      <td>[{'thumb': 'https://m.media-amazon.com/images/...</td>\n",
              "      <td>VY</td>\n",
              "      <td>B084HLLNLN</td>\n",
              "      <td>genuine leather belt for men, single prong met...</td>\n",
              "    </tr>\n",
              "  </tbody>\n",
              "</table>\n",
              "</div>\n",
              "    <div class=\"colab-df-buttons\">\n",
              "\n",
              "  <div class=\"colab-df-container\">\n",
              "    <button class=\"colab-df-convert\" onclick=\"convertToInteractive('df-2189faba-734d-4f67-9f9f-69947886dfbb')\"\n",
              "            title=\"Convert this dataframe to an interactive table.\"\n",
              "            style=\"display:none;\">\n",
              "\n",
              "  <svg xmlns=\"http://www.w3.org/2000/svg\" height=\"24px\" viewBox=\"0 -960 960 960\">\n",
              "    <path d=\"M120-120v-720h720v720H120Zm60-500h600v-160H180v160Zm220 220h160v-160H400v160Zm0 220h160v-160H400v160ZM180-400h160v-160H180v160Zm440 0h160v-160H620v160ZM180-180h160v-160H180v160Zm440 0h160v-160H620v160Z\"/>\n",
              "  </svg>\n",
              "    </button>\n",
              "\n",
              "  <style>\n",
              "    .colab-df-container {\n",
              "      display:flex;\n",
              "      gap: 12px;\n",
              "    }\n",
              "\n",
              "    .colab-df-convert {\n",
              "      background-color: #E8F0FE;\n",
              "      border: none;\n",
              "      border-radius: 50%;\n",
              "      cursor: pointer;\n",
              "      display: none;\n",
              "      fill: #1967D2;\n",
              "      height: 32px;\n",
              "      padding: 0 0 0 0;\n",
              "      width: 32px;\n",
              "    }\n",
              "\n",
              "    .colab-df-convert:hover {\n",
              "      background-color: #E2EBFA;\n",
              "      box-shadow: 0px 1px 2px rgba(60, 64, 67, 0.3), 0px 1px 3px 1px rgba(60, 64, 67, 0.15);\n",
              "      fill: #174EA6;\n",
              "    }\n",
              "\n",
              "    .colab-df-buttons div {\n",
              "      margin-bottom: 4px;\n",
              "    }\n",
              "\n",
              "    [theme=dark] .colab-df-convert {\n",
              "      background-color: #3B4455;\n",
              "      fill: #D2E3FC;\n",
              "    }\n",
              "\n",
              "    [theme=dark] .colab-df-convert:hover {\n",
              "      background-color: #434B5C;\n",
              "      box-shadow: 0px 1px 3px 1px rgba(0, 0, 0, 0.15);\n",
              "      filter: drop-shadow(0px 1px 2px rgba(0, 0, 0, 0.3));\n",
              "      fill: #FFFFFF;\n",
              "    }\n",
              "  </style>\n",
              "\n",
              "    <script>\n",
              "      const buttonEl =\n",
              "        document.querySelector('#df-2189faba-734d-4f67-9f9f-69947886dfbb button.colab-df-convert');\n",
              "      buttonEl.style.display =\n",
              "        google.colab.kernel.accessAllowed ? 'block' : 'none';\n",
              "\n",
              "      async function convertToInteractive(key) {\n",
              "        const element = document.querySelector('#df-2189faba-734d-4f67-9f9f-69947886dfbb');\n",
              "        const dataTable =\n",
              "          await google.colab.kernel.invokeFunction('convertToInteractive',\n",
              "                                                    [key], {});\n",
              "        if (!dataTable) return;\n",
              "\n",
              "        const docLinkHtml = 'Like what you see? Visit the ' +\n",
              "          '<a target=\"_blank\" href=https://colab.research.google.com/notebooks/data_table.ipynb>data table notebook</a>'\n",
              "          + ' to learn more about interactive tables.';\n",
              "        element.innerHTML = '';\n",
              "        dataTable['output_type'] = 'display_data';\n",
              "        await google.colab.output.renderOutput(dataTable, element);\n",
              "        const docLink = document.createElement('div');\n",
              "        docLink.innerHTML = docLinkHtml;\n",
              "        element.appendChild(docLink);\n",
              "      }\n",
              "    </script>\n",
              "  </div>\n",
              "\n",
              "\n",
              "    </div>\n",
              "  </div>\n"
            ],
            "text/plain": [
              "   Unnamed: 0                                              title  \\\n",
              "0      426639  Genuine Leather Belt for Men, Single Prong Met...   \n",
              "\n",
              "   average_rating  rating_number description  \\\n",
              "0             2.3              3          []   \n",
              "\n",
              "                                              images store parent_asin  \\\n",
              "0  [{'thumb': 'https://m.media-amazon.com/images/...    VY  B084HLLNLN   \n",
              "\n",
              "                                           titleDesc  \n",
              "0  genuine leather belt for men, single prong met...  "
            ]
          },
          "execution_count": 60,
          "metadata": {},
          "output_type": "execute_result"
        }
      ],
      "source": [
        "df.head(1)"
      ]
    },
    {
      "cell_type": "code",
      "execution_count": null,
      "metadata": {
        "id": "mF-XPZXWyZq2"
      },
      "outputs": [],
      "source": [
        "df['titleDesc'] = df['titleDesc'].apply(lambda x: re.sub(r'[^\\w\\s]', '', x))"
      ]
    },
    {
      "cell_type": "code",
      "execution_count": null,
      "metadata": {
        "id": "JaTcYQoByZoG"
      },
      "outputs": [],
      "source": [
        "df['titleDesc'] = df['titleDesc'].apply(lambda x: ' '.join([i for i in x.split(\" \") if i not in stopwords.words('english')]))"
      ]
    },
    {
      "cell_type": "code",
      "execution_count": null,
      "metadata": {
        "colab": {
          "base_uri": "https://localhost:8080/",
          "height": 35
        },
        "id": "wplbAjDP5ld6",
        "outputId": "f3ea86c6-c95d-48e5-fa15-692a2db40553"
      },
      "outputs": [
        {
          "data": {
            "application/vnd.google.colaboratory.intrinsic+json": {
              "type": "string"
            },
            "text/plain": [
              "'genuine leather belt men single prong metal buckle brown 4648'"
            ]
          },
          "execution_count": 63,
          "metadata": {},
          "output_type": "execute_result"
        }
      ],
      "source": [
        "df['titleDesc'][0]"
      ]
    },
    {
      "cell_type": "code",
      "execution_count": null,
      "metadata": {
        "id": "qK-xIbAuyZhU"
      },
      "outputs": [],
      "source": [
        "df['titleDesc'] = df['titleDesc'].apply(lambda x: list(set(x.split(\" \"))))"
      ]
    },
    {
      "cell_type": "code",
      "execution_count": null,
      "metadata": {
        "id": "WvHR8B5syZfH"
      },
      "outputs": [],
      "source": [
        "for i in df.index:\n",
        "  if type(df['titleDesc'][i]) == float:\n",
        "    df.drop(i, inplace=True,axis = 0)"
      ]
    },
    {
      "cell_type": "code",
      "execution_count": null,
      "metadata": {
        "id": "HJ484WuayZcb"
      },
      "outputs": [],
      "source": [
        "w2v_model = Word2Vec(min_count=1,\n",
        "                     window=3,\n",
        "                     sg=0, # for CBOW\n",
        "                     alpha=0.03,\n",
        "                     min_alpha=0.0007,\n",
        "                     negative=20,\n",
        "                     workers=2)"
      ]
    },
    {
      "cell_type": "code",
      "execution_count": null,
      "metadata": {
        "id": "rb5xoH9QyZZQ"
      },
      "outputs": [],
      "source": [
        "t = time.time()\n",
        "w2v_model.build_vocab(df['titleDesc'], progress_per=10000)"
      ]
    },
    {
      "cell_type": "code",
      "execution_count": null,
      "metadata": {
        "colab": {
          "base_uri": "https://localhost:8080/"
        },
        "id": "5k7O0SI8yZW8",
        "outputId": "d63351db-70e8-4e82-c9b0-8e1d65ced484"
      },
      "outputs": [
        {
          "name": "stdout",
          "output_type": "stream",
          "text": [
            "Time to train the model: 4.73 mins\n"
          ]
        }
      ],
      "source": [
        "w2v_model.train(df['titleDesc'], total_examples=w2v_model.corpus_count, epochs=30, report_delay=1)\n",
        "print('Time to train the model: {} mins'.format(round((time.time() - t) / 60, 2))) # Call time() again here"
      ]
    },
    {
      "cell_type": "code",
      "execution_count": null,
      "metadata": {
        "id": "rkCT8hYpyZVF"
      },
      "outputs": [],
      "source": [
        "final_df = df.copy()"
      ]
    },
    {
      "cell_type": "code",
      "execution_count": null,
      "metadata": {
        "colab": {
          "base_uri": "https://localhost:8080/"
        },
        "id": "-coSyEOgVuoE",
        "outputId": "a2b25693-0aa0-4946-b3c1-6d7e930e777c"
      },
      "outputs": [
        {
          "data": {
            "text/plain": [
              "0        [{'thumb': 'https://m.media-amazon.com/images/...\n",
              "1        [{'thumb': 'https://m.media-amazon.com/images/...\n",
              "2        [{'thumb': 'https://m.media-amazon.com/images/...\n",
              "3        [{'thumb': 'https://m.media-amazon.com/images/...\n",
              "4        [{'thumb': 'https://m.media-amazon.com/images/...\n",
              "                               ...                        \n",
              "79995    [{'thumb': 'https://m.media-amazon.com/images/...\n",
              "79996    [{'thumb': 'https://m.media-amazon.com/images/...\n",
              "79997    [{'thumb': 'https://m.media-amazon.com/images/...\n",
              "79998    [{'thumb': 'https://m.media-amazon.com/images/...\n",
              "79999    [{'thumb': 'https://m.media-amazon.com/images/...\n",
              "Name: images, Length: 78890, dtype: object"
            ]
          },
          "execution_count": 129,
          "metadata": {},
          "output_type": "execute_result"
        }
      ],
      "source": [
        "df.images"
      ]
    },
    {
      "cell_type": "code",
      "execution_count": null,
      "metadata": {
        "colab": {
          "base_uri": "https://localhost:8080/",
          "height": 202
        },
        "id": "9mEsYocmyZSv",
        "outputId": "3b86a53e-c3f4-43ef-fe73-2192fe4cba84"
      },
      "outputs": [
        {
          "data": {
            "application/vnd.google.colaboratory.intrinsic+json": {
              "summary": "{\n  \"name\": \"df\",\n  \"rows\": 78890,\n  \"fields\": [\n    {\n      \"column\": \"Unnamed: 0\",\n      \"properties\": {\n        \"dtype\": \"number\",\n        \"std\": 238558,\n        \"min\": 26,\n        \"max\": 826103,\n        \"num_unique_values\": 78890,\n        \"samples\": [\n          544045,\n          624945,\n          819246\n        ],\n        \"semantic_type\": \"\",\n        \"description\": \"\"\n      }\n    },\n    {\n      \"column\": \"title\",\n      \"properties\": {\n        \"dtype\": \"string\",\n        \"num_unique_values\": 78853,\n        \"samples\": [\n          \"SheIn Women's Off The Shoulder Crochet Long Sleeve Blouse - White X-Small\",\n          \"Sterling Silver 14kt Yellow Gold Plated Accents Three Plumeria Slider Pendant Necklace, 16+2\\\" Extender\",\n          \"OXYEFEI Graduation Stole, Personalized 2023 Mexican Serape Embroidery Customization, Graduation Sash Class of 2023\"\n        ],\n        \"semantic_type\": \"\",\n        \"description\": \"\"\n      }\n    },\n    {\n      \"column\": \"average_rating\",\n      \"properties\": {\n        \"dtype\": \"number\",\n        \"std\": 0.9843081583573156,\n        \"min\": 1.0,\n        \"max\": 5.0,\n        \"num_unique_values\": 40,\n        \"samples\": [\n          2.5,\n          4.6,\n          3.8\n        ],\n        \"semantic_type\": \"\",\n        \"description\": \"\"\n      }\n    },\n    {\n      \"column\": \"rating_number\",\n      \"properties\": {\n        \"dtype\": \"number\",\n        \"std\": 139,\n        \"min\": 1,\n        \"max\": 20533,\n        \"num_unique_values\": 663,\n        \"samples\": [\n          295,\n          288,\n          260\n        ],\n        \"semantic_type\": \"\",\n        \"description\": \"\"\n      }\n    },\n    {\n      \"column\": \"description\",\n      \"properties\": {\n        \"dtype\": \"category\",\n        \"num_unique_values\": 5330,\n        \"samples\": [\n          \"['Metal Pink Ribbon Charms. Each with acrylic rhinestones. Use these charms as gifts, decorations, wine charms, etc. at your next bunco pink ribbon fundraiser or event. 1/2\\\" each.']\",\n          \"[\\\"Your little one with love their Timberland 6 Premium Boot with Faux Shearling! This classic workboot features a faux shearling lining to keep their toes warm when the temperatures drop. These are built to protect kids' feet through puddles, rain, mud and whatever else gets in their way. Grab a pair of Timberland 6 Premium Boot with Faux Shearling Wheat Work Boot today!\\\"]\",\n          \"['Cartilage earring piercing stud with black titanium anodized ball. 16 Gauge 1/4\\\". Ball size 4mm. Surgical steel bar.']\"\n        ],\n        \"semantic_type\": \"\",\n        \"description\": \"\"\n      }\n    },\n    {\n      \"column\": \"images\",\n      \"properties\": {\n        \"dtype\": \"string\",\n        \"num_unique_values\": 76072,\n        \"samples\": [\n          \"[{'thumb': 'https://m.media-amazon.com/images/I/311qe6eNRTL._AC_SR38,50_.jpg', 'large': 'https://m.media-amazon.com/images/I/311qe6eNRTL._AC_.jpg', 'variant': 'MAIN', 'hi_res': 'https://m.media-amazon.com/images/I/51GseDi9viL._AC_UL1500_.jpg'}, {'thumb': 'https://m.media-amazon.com/images/I/316j4Kd29vL._AC_SR38,50_.jpg', 'large': 'https://m.media-amazon.com/images/I/316j4Kd29vL._AC_.jpg', 'variant': 'PT01', 'hi_res': 'https://m.media-amazon.com/images/I/51dq6Nya4sL._AC_UL1500_.jpg'}, {'thumb': 'https://m.media-amazon.com/images/I/31xMUNssWCL._AC_SR38,50_.jpg', 'large': 'https://m.media-amazon.com/images/I/31xMUNssWCL._AC_.jpg', 'variant': 'PT02', 'hi_res': 'https://m.media-amazon.com/images/I/51Ik4Fd5JuL._AC_UL1500_.jpg'}, {'thumb': 'https://m.media-amazon.com/images/I/31Bj5u3K4yL._AC_SR38,50_.jpg', 'large': 'https://m.media-amazon.com/images/I/31Bj5u3K4yL._AC_.jpg', 'variant': 'PT03', 'hi_res': 'https://m.media-amazon.com/images/I/51XxMauGg0L._AC_UL1500_.jpg'}, {'thumb': 'https://m.media-amazon.com/images/I/31k9+pMR6LL._AC_SR38,50_.jpg', 'large': 'https://m.media-amazon.com/images/I/31k9+pMR6LL._AC_.jpg', 'variant': 'PT04', 'hi_res': 'https://m.media-amazon.com/images/I/61IOoVi-jTL._AC_UL1500_.jpg'}, {'thumb': 'https://m.media-amazon.com/images/I/31x+GGLdj4L._AC_SR38,50_.jpg', 'large': 'https://m.media-amazon.com/images/I/31x+GGLdj4L._AC_.jpg', 'variant': 'PT05', 'hi_res': 'https://m.media-amazon.com/images/I/51gvzLX-uPL._AC_UL1500_.jpg'}, {'thumb': 'https://m.media-amazon.com/images/I/51QUG7v9c-L._AC_SR38,50_.jpg', 'large': 'https://m.media-amazon.com/images/I/51QUG7v9c-L._AC_.jpg', 'variant': 'PT06', 'hi_res': 'https://m.media-amazon.com/images/I/81oVOMv29pL._AC_UL1500_.jpg'}]\",\n          \"[{'thumb': 'https://m.media-amazon.com/images/I/41Mq+xWhtLL._AC_SR38,50_.jpg', 'large': 'https://m.media-amazon.com/images/I/41Mq+xWhtLL._AC_.jpg', 'variant': 'MAIN', 'hi_res': 'https://m.media-amazon.com/images/I/71cap8+pNSL._AC_UL1500_.jpg'}]\",\n          \"[{'thumb': 'https://m.media-amazon.com/images/I/41cUj5DpXKL._AC_SR38,50_.jpg', 'large': 'https://m.media-amazon.com/images/I/41cUj5DpXKL._AC_.jpg', 'variant': 'MAIN', 'hi_res': 'https://m.media-amazon.com/images/I/71xt97tS0+L._AC_UL1500_.jpg'}]\"\n        ],\n        \"semantic_type\": \"\",\n        \"description\": \"\"\n      }\n    },\n    {\n      \"column\": \"store\",\n      \"properties\": {\n        \"dtype\": \"category\",\n        \"num_unique_values\": 27123,\n        \"samples\": [\n          \"Theatricals Pro\",\n          \"ASGIFT\",\n          \"J.NINA\"\n        ],\n        \"semantic_type\": \"\",\n        \"description\": \"\"\n      }\n    },\n    {\n      \"column\": \"parent_asin\",\n      \"properties\": {\n        \"dtype\": \"string\",\n        \"num_unique_values\": 78890,\n        \"samples\": [\n          \"B01HD8Q5LE\",\n          \"B0B61DHVF8\",\n          \"B07MQ58978\"\n        ],\n        \"semantic_type\": \"\",\n        \"description\": \"\"\n      }\n    },\n    {\n      \"column\": \"titleDesc\",\n      \"properties\": {\n        \"dtype\": \"object\",\n        \"semantic_type\": \"\",\n        \"description\": \"\"\n      }\n    }\n  ]\n}",
              "type": "dataframe",
              "variable_name": "df"
            },
            "text/html": [
              "\n",
              "  <div id=\"df-acea05b6-0a60-46b1-ba62-f0896a0a6a9d\" class=\"colab-df-container\">\n",
              "    <div>\n",
              "<style scoped>\n",
              "    .dataframe tbody tr th:only-of-type {\n",
              "        vertical-align: middle;\n",
              "    }\n",
              "\n",
              "    .dataframe tbody tr th {\n",
              "        vertical-align: top;\n",
              "    }\n",
              "\n",
              "    .dataframe thead th {\n",
              "        text-align: right;\n",
              "    }\n",
              "</style>\n",
              "<table border=\"1\" class=\"dataframe\">\n",
              "  <thead>\n",
              "    <tr style=\"text-align: right;\">\n",
              "      <th></th>\n",
              "      <th>Unnamed: 0</th>\n",
              "      <th>title</th>\n",
              "      <th>average_rating</th>\n",
              "      <th>rating_number</th>\n",
              "      <th>description</th>\n",
              "      <th>images</th>\n",
              "      <th>store</th>\n",
              "      <th>parent_asin</th>\n",
              "      <th>titleDesc</th>\n",
              "    </tr>\n",
              "  </thead>\n",
              "  <tbody>\n",
              "    <tr>\n",
              "      <th>0</th>\n",
              "      <td>426639</td>\n",
              "      <td>Genuine Leather Belt for Men, Single Prong Met...</td>\n",
              "      <td>2.3</td>\n",
              "      <td>3</td>\n",
              "      <td>[]</td>\n",
              "      <td>[{'thumb': 'https://m.media-amazon.com/images/...</td>\n",
              "      <td>VY</td>\n",
              "      <td>B084HLLNLN</td>\n",
              "      <td>[single, prong, men, buckle, belt, genuine, me...</td>\n",
              "    </tr>\n",
              "  </tbody>\n",
              "</table>\n",
              "</div>\n",
              "    <div class=\"colab-df-buttons\">\n",
              "\n",
              "  <div class=\"colab-df-container\">\n",
              "    <button class=\"colab-df-convert\" onclick=\"convertToInteractive('df-acea05b6-0a60-46b1-ba62-f0896a0a6a9d')\"\n",
              "            title=\"Convert this dataframe to an interactive table.\"\n",
              "            style=\"display:none;\">\n",
              "\n",
              "  <svg xmlns=\"http://www.w3.org/2000/svg\" height=\"24px\" viewBox=\"0 -960 960 960\">\n",
              "    <path d=\"M120-120v-720h720v720H120Zm60-500h600v-160H180v160Zm220 220h160v-160H400v160Zm0 220h160v-160H400v160ZM180-400h160v-160H180v160Zm440 0h160v-160H620v160ZM180-180h160v-160H180v160Zm440 0h160v-160H620v160Z\"/>\n",
              "  </svg>\n",
              "    </button>\n",
              "\n",
              "  <style>\n",
              "    .colab-df-container {\n",
              "      display:flex;\n",
              "      gap: 12px;\n",
              "    }\n",
              "\n",
              "    .colab-df-convert {\n",
              "      background-color: #E8F0FE;\n",
              "      border: none;\n",
              "      border-radius: 50%;\n",
              "      cursor: pointer;\n",
              "      display: none;\n",
              "      fill: #1967D2;\n",
              "      height: 32px;\n",
              "      padding: 0 0 0 0;\n",
              "      width: 32px;\n",
              "    }\n",
              "\n",
              "    .colab-df-convert:hover {\n",
              "      background-color: #E2EBFA;\n",
              "      box-shadow: 0px 1px 2px rgba(60, 64, 67, 0.3), 0px 1px 3px 1px rgba(60, 64, 67, 0.15);\n",
              "      fill: #174EA6;\n",
              "    }\n",
              "\n",
              "    .colab-df-buttons div {\n",
              "      margin-bottom: 4px;\n",
              "    }\n",
              "\n",
              "    [theme=dark] .colab-df-convert {\n",
              "      background-color: #3B4455;\n",
              "      fill: #D2E3FC;\n",
              "    }\n",
              "\n",
              "    [theme=dark] .colab-df-convert:hover {\n",
              "      background-color: #434B5C;\n",
              "      box-shadow: 0px 1px 3px 1px rgba(0, 0, 0, 0.15);\n",
              "      filter: drop-shadow(0px 1px 2px rgba(0, 0, 0, 0.3));\n",
              "      fill: #FFFFFF;\n",
              "    }\n",
              "  </style>\n",
              "\n",
              "    <script>\n",
              "      const buttonEl =\n",
              "        document.querySelector('#df-acea05b6-0a60-46b1-ba62-f0896a0a6a9d button.colab-df-convert');\n",
              "      buttonEl.style.display =\n",
              "        google.colab.kernel.accessAllowed ? 'block' : 'none';\n",
              "\n",
              "      async function convertToInteractive(key) {\n",
              "        const element = document.querySelector('#df-acea05b6-0a60-46b1-ba62-f0896a0a6a9d');\n",
              "        const dataTable =\n",
              "          await google.colab.kernel.invokeFunction('convertToInteractive',\n",
              "                                                    [key], {});\n",
              "        if (!dataTable) return;\n",
              "\n",
              "        const docLinkHtml = 'Like what you see? Visit the ' +\n",
              "          '<a target=\"_blank\" href=https://colab.research.google.com/notebooks/data_table.ipynb>data table notebook</a>'\n",
              "          + ' to learn more about interactive tables.';\n",
              "        element.innerHTML = '';\n",
              "        dataTable['output_type'] = 'display_data';\n",
              "        await google.colab.output.renderOutput(dataTable, element);\n",
              "        const docLink = document.createElement('div');\n",
              "        docLink.innerHTML = docLinkHtml;\n",
              "        element.appendChild(docLink);\n",
              "      }\n",
              "    </script>\n",
              "  </div>\n",
              "\n",
              "\n",
              "    </div>\n",
              "  </div>\n"
            ],
            "text/plain": [
              "   Unnamed: 0                                              title  \\\n",
              "0      426639  Genuine Leather Belt for Men, Single Prong Met...   \n",
              "\n",
              "   average_rating  rating_number description  \\\n",
              "0             2.3              3          []   \n",
              "\n",
              "                                              images store parent_asin  \\\n",
              "0  [{'thumb': 'https://m.media-amazon.com/images/...    VY  B084HLLNLN   \n",
              "\n",
              "                                           titleDesc  \n",
              "0  [single, prong, men, buckle, belt, genuine, me...  "
            ]
          },
          "execution_count": 73,
          "metadata": {},
          "output_type": "execute_result"
        }
      ],
      "source": [
        "df.head(1)"
      ]
    },
    {
      "cell_type": "code",
      "execution_count": null,
      "metadata": {
        "id": "Fy02nR5dyZQZ"
      },
      "outputs": [],
      "source": [
        "df['titleDesc'] = df['titleDesc'].apply(lambda x: [w2v_model.wv[i] for i in x])"
      ]
    },
    {
      "cell_type": "code",
      "execution_count": null,
      "metadata": {
        "id": "BtJ385i3yZN4"
      },
      "outputs": [],
      "source": [
        "df['titleDesc'] = df['titleDesc'].apply(lambda x: np.mean(x, axis=0))"
      ]
    },
    {
      "cell_type": "code",
      "execution_count": null,
      "metadata": {
        "colab": {
          "base_uri": "https://localhost:8080/"
        },
        "id": "XYeHQpLv7evj",
        "outputId": "e27213a0-11b5-40d4-83ec-8d398f9e9868"
      },
      "outputs": [
        {
          "name": "stdout",
          "output_type": "stream",
          "text": [
            "Searched items :\n",
            "rose long star 7 pouch yspace bail gift included pendant decor heart necklace brass antique wave\n",
            "Top 10 similar items:\n",
            "photo 2 pouch charm locket gift love chain pendant jewelry angel necklace fashion unicorn silver wings -----> Similarity: 0.8812302350997925\n",
            "================================\n",
            " glass orange galaxy crescent gift chain moon pendant great women necklace cosmic luvalti 175 -----> Similarity: 0.8808359503746033\n",
            "================================\n",
            "rose long yoyoma owl life gift chain pendant gold womenowl girls necklace cz crystal tree -----> Similarity: 0.8801305890083313\n",
            "================================\n",
            "rose boutique star half charm happiness moon pendant gold lariat necklace women -----> Similarity: 0.8750319480895996\n",
            "================================\n",
            "auryn gmork never crescent photo vintage wish ouroboros story fantasia falkor fantasy charm moon pendant ending atreyu necklace bastian -----> Similarity: 0.8725464940071106\n",
            "================================\n",
            "cultured 925 locket pearl love gift charms pendant chain drop water beads necklace 177 freshwater cage silver tone -----> Similarity: 0.8714834451675415\n",
            "================================\n",
            "box gift chain plated pendant zyh 18 silvertone sailing heart necklace best horse birthday -----> Similarity: 0.8697383999824524\n",
            "================================\n",
            "rose nurse infinity charm gift nurses pendant gold jewelry angel quan necklace wing tone -----> Similarity: 0.8695130348205566\n",
            "================================\n",
            " 17 unique dragonfly crystal style chain sparkling paua liavys souvenir shell fashionable snake charm gift pendant necklace abalone -----> Similarity: 0.8674501180648804\n",
            "================================\n",
            "open teardrop day gift sterling mothers love pendant 18 necklace forever silver -----> Similarity: 0.8665568232536316\n",
            "================================\n"
          ]
        }
      ],
      "source": [
        "item_index = 12\n",
        "\n",
        "# Compute cosine similarities between item_index and all other items\n",
        "similar_items = []\n",
        "for i in range(len(df)):\n",
        "    if i != item_index:\n",
        "        sim = cosine_similarity(df['titleDesc'].iloc[item_index].reshape(1, -1), df['titleDesc'].iloc[i].reshape(1, -1))[0, 0]\n",
        "        similar_items.append((i, sim))\n",
        "\n",
        "# Sort similar_items by similarity score in descending order\n",
        "similar_items.sort(key=lambda x: x[1], reverse=True)\n",
        "\n",
        "# Retrieve top 10 similar items\n",
        "top_10_similar_items = similar_items[:10]\n",
        "\n",
        "# Print or process the results\n",
        "print(\"Searched items :\")\n",
        "print(f\"{' '.join(final_df['titleDesc'].iloc[item_index])}\")\n",
        "print(\"Top 10 similar items:\")\n",
        "for idx, sim in top_10_similar_items:\n",
        "  # Convert NumPy array to a list of strings before joining\n",
        "  print(f\"{' '.join(final_df['titleDesc'].iloc[idx])} -----> Similarity: {sim}\")\n",
        "  print(\"================================\")"
      ]
    },
    {
      "cell_type": "code",
      "execution_count": null,
      "metadata": {
        "colab": {
          "base_uri": "https://localhost:8080/",
          "height": 725
        },
        "id": "3WBGwcEf7esb",
        "outputId": "60d03315-8ee0-4f11-8005-4ff23bb9f941"
      },
      "outputs": [
        {
          "name": "stdout",
          "output_type": "stream",
          "text": [
            "Explained Variance Ratio: [0.30888112 0.1028354  0.05228296 0.04332571 0.03941592 0.03612567\n",
            " 0.03080174 0.02545968 0.02174747 0.0211094  0.01916483 0.01764136\n",
            " 0.01666451 0.01448387 0.01393488 0.01271514 0.01089099 0.01023453\n",
            " 0.00971884 0.00833919 0.00817421 0.00700778 0.00653348 0.00623277\n",
            " 0.00609187 0.00579533 0.00569644 0.00531692 0.00493491 0.00475178\n",
            " 0.00432424 0.00419995 0.00376055 0.00348948 0.00333501 0.0032387\n",
            " 0.00299536 0.00294026 0.00282051 0.00270705 0.00259557 0.00254965\n",
            " 0.00248565 0.00246228 0.00231212 0.00224981 0.00219604 0.00213065\n",
            " 0.00207601 0.00205159]\n"
          ]
        },
        {
          "data": {
            "image/png": "[encoded data removed]",
            "text/plain": [
              "<Figure size 800x600 with 1 Axes>"
            ]
          },
          "metadata": {},
          "output_type": "display_data"
        }
      ],
      "source": [
        "\n",
        "desc_pre1_array = np.vstack(df['titleDesc'].apply(np.array))\n",
        "\n",
        "# Initialize PCA\n",
        "pca = PCA(50)\n",
        "\n",
        "# Fit PCA\n",
        "pca.fit(desc_pre1_array)\n",
        "\n",
        "# Explained variance ratio\n",
        "explained_variance = pca.explained_variance_ratio_\n",
        "print(\"Explained Variance Ratio:\", explained_variance)\n",
        "\n",
        "# Transform data\n",
        "pca_data = pca.transform(desc_pre1_array)\n",
        "\n",
        "# Plotting the explained variance\n",
        "plt.figure(figsize=(8, 6))\n",
        "plt.plot(range(1, len(explained_variance) + 1), explained_variance, marker='o', linestyle='--')\n",
        "plt.title('Explained Variance by Principal Components')\n",
        "plt.xlabel('Principal Component')\n",
        "plt.ylabel('Explained Variance')\n",
        "plt.xticks(range(1, len(explained_variance) + 1))\n",
        "plt.grid(True)\n",
        "plt.show()\n"
      ]
    },
    {
      "cell_type": "code",
      "execution_count": null,
      "metadata": {
        "colab": {
          "base_uri": "https://localhost:8080/",
          "height": 35
        },
        "id": "HNguYyEwEmbC",
        "outputId": "e4886b2b-2445-4859-e981-386d4bbfd706"
      },
      "outputs": [
        {
          "data": {
            "application/vnd.google.colaboratory.intrinsic+json": {
              "type": "string"
            },
            "text/plain": [
              "'Genuine Leather Belt for Men, Single Prong Metal Buckle (Brown, 46-48)'"
            ]
          },
          "execution_count": 102,
          "metadata": {},
          "output_type": "execute_result"
        }
      ],
      "source": [
        "final_df['title'].iloc[0]"
      ]
    },
    {
      "cell_type": "code",
      "execution_count": null,
      "metadata": {
        "id": "nyW22JM0Hj1B"
      },
      "outputs": [],
      "source": [
        "final_df1 = final_df.copy()"
      ]
    },
    {
      "cell_type": "code",
      "execution_count": null,
      "metadata": {
        "colab": {
          "base_uri": "https://localhost:8080/"
        },
        "id": "qvl-iZ3q7ep0",
        "outputId": "99bbbba7-c9ca-44d8-f774-5f2cab406aa4"
      },
      "outputs": [
        {
          "name": "stdout",
          "output_type": "stream",
          "text": [
            "Searched items :\n",
            "rose long star 7 pouch yspace bail gift included pendant decor heart necklace brass antique wave\n",
            "Top 10 similar items:\n",
            " glass orange galaxy crescent gift chain moon pendant great women necklace cosmic luvalti 175 -----> Similarity: 0.940089225769043\n",
            "================================\n",
            " unique vaga 70cm absolute golden sweater chain dorable white eyecatcher long gold charming absolutely pumpkin magic carriage pendant necklace fairytale -----> Similarity: 0.9283173084259033\n",
            "================================\n",
            " 17 unique dragonfly crystal style chain sparkling paua liavys souvenir shell fashionable snake charm gift pendant necklace abalone -----> Similarity: 0.9233248829841614\n",
            "================================\n",
            "auryn gmork never crescent photo vintage wish ouroboros story fantasia falkor fantasy charm moon pendant ending atreyu necklace bastian -----> Similarity: 0.9211096167564392\n",
            "================================\n",
            " free pendants comes polished adviser sterling dog backsterling white bail product silvermaterialmetal box jewelry silversterling silver bailsatinflat 925 gift puppy type charms pendant materialcolor terling stamp material -----> Similarity: 0.9192882776260376\n",
            "================================\n",
            "rose nurse infinity charm gift nurses pendant gold jewelry angel quan necklace wing tone -----> Similarity: 0.9177324175834656\n",
            "================================\n",
            "photo 2 pouch charm locket gift love chain pendant jewelry angel necklace fashion unicorn silver wings -----> Similarity: 0.9159905910491943\n",
            "================================\n",
            "keychain xcoser props ft set weapons pendant wizards necklace 29pcs exquisite -----> Similarity: 0.9147948026657104\n",
            "================================\n",
            "rose boutique star half charm happiness moon pendant gold lariat necklace women -----> Similarity: 0.914134681224823\n",
            "================================\n",
            "rose long yoyoma owl life gift chain pendant gold womenowl girls necklace cz crystal tree -----> Similarity: 0.9136006236076355\n",
            "================================\n"
          ]
        }
      ],
      "source": [
        "item_index = 12\n",
        "\n",
        "# Compute cosine similarities between item_index and all other items\n",
        "similar_items = []\n",
        "for i in range(len(pca_data)):\n",
        "    if i != item_index:\n",
        "        sim = cosine_similarity(pca_data[item_index].reshape(1, -1), pca_data[i].reshape(1, -1))[0, 0]\n",
        "        similar_items.append((i, sim))\n",
        "\n",
        "# Sort similar_items by similarity score in descending order\n",
        "similar_items.sort(key=lambda x: x[1], reverse=True)\n",
        "\n",
        "# Retrieve top 10 similar items\n",
        "top_10_similar_items = similar_items[:10]\n",
        "\n",
        "# Print or process the results\n",
        "print(\"Searched items :\")\n",
        "print(f\"{' '.join(final_df['titleDesc'].iloc[item_index])}\")\n",
        "print(\"Top 10 similar items:\")\n",
        "for idx, sim in top_10_similar_items:\n",
        "  #if(final_df['store'].iloc[idx] == final_df['store'].iloc[item_index]):\n",
        "    print(f\"{' '.join(final_df['titleDesc'].iloc[idx])} -----> Similarity: {sim}\")\n",
        "    print(\"================================\")"
      ]
    },
    {
      "cell_type": "code",
      "execution_count": null,
      "metadata": {
        "id": "iEl6AqPe7ekF"
      },
      "outputs": [],
      "source": []
    },
    {
      "cell_type": "code",
      "execution_count": null,
      "metadata": {
        "id": "FKWdk26F7ehN"
      },
      "outputs": [],
      "source": []
    },
    {
      "cell_type": "code",
      "execution_count": null,
      "metadata": {
        "id": "FKoG9KNz7ee5"
      },
      "outputs": [],
      "source": []
    },
    {
      "cell_type": "code",
      "execution_count": null,
      "metadata": {
        "id": "f5sxUl-a7ecB"
      },
      "outputs": [],
      "source": []
    },
    {
      "cell_type": "code",
      "execution_count": null,
      "metadata": {
        "id": "iqltk4vD7eY1"
      },
      "outputs": [],
      "source": []
    },
    {
      "cell_type": "code",
      "execution_count": 138,
      "metadata": {
        "id": "6nHYE19B7eWB"
      },
      "outputs": [],
      "source": [
        "def calculate_cosine_similarity(pca_data,X_pca,X_transformed):\n",
        "    similar_items = []\n",
        "    for i in range(len(pca_data)):\n",
        "        sim = cosine_similarity(pca_data[i].reshape(1, -1), X_pca.reshape(1, -1))[0, 0]\n",
        "        similar_items.append((i, sim))\n",
        "\n",
        "    # Sort similar_items by similarity score in descending order\n",
        "    similar_items.sort(key=lambda x: x[1], reverse=True)\n",
        "\n",
        "    # Retrieve top 10 similar items\n",
        "    top_10_similar_items = similar_items[:10]\n",
        "\n",
        " \n",
        "    for idx, sim in top_10_similar_items:\n",
        "    #if(final_df['store'].iloc[idx] == final_df['store'].iloc[item_index]):\n",
        "        a = X_transformed['titleDesc'].iloc[idx]\n",
        "        a  = re.sub(r'[^\\w\\s]', '', a)\n",
        "        print(f\"{a} -----> Similarity: {sim}\")\n",
        "        print(\"================================\")"
      ]
    },
    {
      "cell_type": "code",
      "execution_count": 122,
      "metadata": {},
      "outputs": [],
      "source": [
        "import pandas as pd\n",
        "pc_data = np.load(\"/Users/sanketsaxena/Desktop/recommendationSystem/ARTIFACTS/pcaTransformed.npy\")\n",
        "x_trans = pd.read_csv(\"/Users/sanketsaxena/Desktop/recommendationSystem/ARTIFACTS/df_Transformed.csv\")"
      ]
    },
    {
      "cell_type": "code",
      "execution_count": 29,
      "metadata": {},
      "outputs": [
        {
          "name": "stderr",
          "output_type": "stream",
          "text": [
            "[nltk_data] Downloading package stopwords to\n",
            "[nltk_data]     /Users/sanketsaxena/nltk_data...\n",
            "[nltk_data]   Package stopwords is already up-to-date!\n"
          ]
        },
        {
          "data": {
            "text/plain": [
              "True"
            ]
          },
          "execution_count": 29,
          "metadata": {},
          "output_type": "execute_result"
        }
      ],
      "source": [
        "import nltk\n",
        "from nltk.corpus import stopwords\n",
        "import pickle\n",
        "\n",
        "nltk.download('stopwords')"
      ]
    },
    {
      "cell_type": "code",
      "execution_count": 128,
      "metadata": {},
      "outputs": [],
      "source": [
        "import re\n",
        "X = \"blue men's jeans cotton\"\n",
        "X = X.lower()\n",
        "X =re.sub(r'[^\\w\\s]', '', X)\n",
        "X = list(dict.fromkeys([i for i in X.split(\" \") if i not in stopwords.words('english')]))\n",
        "X = pd.DataFrame({\"titleDesc\" : [X]})\n",
        "w2vmodel = pickle.load(open(\"/Users/sanketsaxena/Desktop/recommendationSystem/ARTIFACTS/w2vmodel.pkl\",'rb'))\n",
        "\n",
        "\n",
        "X['titleDesc'] = X['titleDesc'].apply(lambda x: [w2vmodel.wv[i] for i in x])\n",
        "X['titleDesc'] = X['titleDesc'].apply(lambda x: np.mean(x, axis=0))\n",
        "\n",
        "\n",
        "pcamodel = pickle.load(open(\"/Users/sanketsaxena/Desktop/recommendationSystem/ARTIFACTS/pcamodel.pkl\",'rb'))\n",
        "\n",
        "\n",
        "\n",
        "X_array = np.vstack(X['titleDesc'].apply(np.array))\n",
        "X_pca = pcamodel.transform(X_array)\n",
        "X_pca = X_pca[0]\n"
      ]
    },
    {
      "cell_type": "code",
      "execution_count": 69,
      "metadata": {},
      "outputs": [],
      "source": [
        "\n",
        "from sklearn.metrics.pairwise import cosine_similarity"
      ]
    },
    {
      "cell_type": "code",
      "execution_count": 139,
      "metadata": {},
      "outputs": [
        {
          "name": "stdout",
          "output_type": "stream",
          "text": [
            "getuback mens slim denim jeans shirt casual camisa light blue cn xxxl -----> Similarity: 0.8126038908958435\n",
            "================================\n",
            "idarbi mens basic casual cotton skinnyfit jeans darkwash 3230 -----> Similarity: 0.8116139769554138\n",
            "================================\n",
            "mens cotton linen lightweight solid casual pants blue asian 4xl -----> Similarity: 0.8100751638412476\n",
            "================================\n",
            "brioni mens black twill cotton pants 42 -----> Similarity: 0.8091476559638977\n",
            "================================\n",
            "demonhunter mens slim fit jeans s831529 blue -----> Similarity: 0.8086746335029602\n",
            "================================\n",
            "valuker mens slim fit denim short jeans light blue w32 -----> Similarity: 0.8063127398490906\n",
            "================================\n",
            "mens cargo shorts cotton belted vintage distressed lounge grey 38 -----> Similarity: 0.7964227199554443\n",
            "================================\n",
            "fommykin mens denim shirt dark blue -----> Similarity: 0.7917129397392273\n",
            "================================\n",
            "rustler  mens heavyweight denim regular fit bootcut blue jeans 31x30 dark -----> Similarity: 0.7901225090026855\n",
            "================================\n",
            "italymorn men classic chino shorts slim fit stretch bermuda 5 pockets twill cotton light grey -----> Similarity: 0.78802889585495\n",
            "================================\n"
          ]
        }
      ],
      "source": [
        "calculate_cosine_similarity(pc_data,X_pca,x_trans)"
      ]
    },
    {
      "cell_type": "code",
      "execution_count": null,
      "metadata": {},
      "outputs": [],
      "source": []
    }
  ],
  "metadata": {
    "colab": {
      "provenance": []
    },
    "kernelspec": {
      "display_name": "Python 3",
      "name": "python3"
    },
    "language_info": {
      "codemirror_mode": {
        "name": "ipython",
        "version": 3
      },
      "file_extension": ".py",
      "mimetype": "text/x-python",
      "name": "python",
      "nbconvert_exporter": "python",
      "pygments_lexer": "ipython3",
      "version": "3.12.0"
    }
  },
  "nbformat": 4,
  "nbformat_minor": 0
}
